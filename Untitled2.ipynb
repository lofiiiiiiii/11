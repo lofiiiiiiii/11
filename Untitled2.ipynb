{
  "nbformat": 4,
  "nbformat_minor": 0,
  "metadata": {
    "colab": {
      "provenance": []
    },
    "kernelspec": {
      "name": "python3",
      "display_name": "Python 3"
    },
    "language_info": {
      "name": "python"
    }
  },
  "cells": [
    {
      "cell_type": "code",
      "execution_count": null,
      "metadata": {
        "id": "qBe7vMqvxMU2",
        "outputId": "315cc4b6-fdfd-4972-ac24-75de5ab0f1af",
        "colab": {
          "base_uri": "https://localhost:8080/"
        }
      },
      "outputs": [
        {
          "metadata": {
            "tags": null
          },
          "name": "stdout",
          "output_type": "stream",
          "text": [
            "請選擇出國目的地：\n",
            "1. 日本\n",
            "2. 韓國\n",
            "3. 中國\n"
          ]
        }
      ],
      "source": [
        "def choose_country():\n",
        "    # 顯示選單\n",
        "    print(\"請選擇出國目的地：\")\n",
        "    print(\"1. 日本\")\n",
        "    print(\"2. 韓國\")\n",
        "    print(\"3. 中國\")\n",
        "\n",
        "    # 取得使用者輸入\n",
        "    choice = input(\"請輸入選項（1/2/3）：\")\n",
        "\n",
        "    # 根據選擇顯示訊息\n",
        "    if choice == '1':\n",
        "        print(\"你選擇了日本。\")\n",
        "    elif choice == '2':\n",
        "        print(\"你選擇了韓國。\")\n",
        "    elif choice == '3':\n",
        "        print(\"你選擇了中國。\")\n",
        "    else:\n",
        "        print(\"無效的選擇，請輸入 1、2 或 3。\")\n",
        "\n",
        "# 執行選擇器程式\n",
        "choose_country()\n"
      ]
    },
    {
      "cell_type": "code",
      "source": [],
      "metadata": {
        "id": "ugIzJNK8xQvS"
      },
      "execution_count": null,
      "outputs": []
    }
  ]
}